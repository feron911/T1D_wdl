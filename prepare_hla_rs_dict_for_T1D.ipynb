{
 "cells": [
  {
   "cell_type": "code",
   "execution_count": 20,
   "metadata": {},
   "outputs": [],
   "source": [
    "import pandas as pd\n",
    "import json,sys,argparse\n",
    "\n",
    "def main(args):\n",
    "    parser = argparse.ArgumentParser(description='Script for generating inputs for wdl script')\n",
    "    parser.add_argument(\"-rh\", '--path_to_rs_hla_table', type=str, required=True,\n",
    "                        help='Path to table with hla and rsID.')\n",
    "    args = parser.parse_args(args)\n",
    "    rs_hla = args.path_to_rs_hla_table\n",
    "    \n",
    "    rs_hla_df = pd.read_csv(rs_hla, sep=\"\\t\", comment=\"#\")\n",
    "    hla_rs_dict = {\"default\": \"HLA-DQA1*11:11; HLA-DQB1*11:11\"}\n",
    "    for _,row in rs_hla_df.iterrows():\n",
    "        if \"HLA-DQA1\" in row[\"effect_allele\"] and \"_x_\" not in row[\"effect_allele\"]:\n",
    "            hla_rs_dict[row[\"rsID\"]] = row[\"effect_allele\"]\n",
    "        \n",
    "    with open(rs_hla.split(\".\")[0] + \".json\", 'w') as convert_file:\n",
    "        convert_file.write(json.dumps(hla_rs_dict))\n",
    "\n",
    "\n",
    "if __name__ == \"__main__\":\n",
    "    main([\"-rh\", \"/Users/User/Desktop/PGS000024.txt\"])"
   ]
  }
 ],
 "metadata": {
  "kernelspec": {
   "display_name": "Python 3",
   "language": "python",
   "name": "python3"
  },
  "language_info": {
   "codemirror_mode": {
    "name": "ipython",
    "version": 3
   },
   "file_extension": ".py",
   "mimetype": "text/x-python",
   "name": "python",
   "nbconvert_exporter": "python",
   "pygments_lexer": "ipython3",
   "version": "3.7.4"
  }
 },
 "nbformat": 4,
 "nbformat_minor": 2
}
